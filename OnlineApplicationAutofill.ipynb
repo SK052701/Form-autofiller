{
 "cells": [
  {
   "cell_type": "code",
   "execution_count": 20,
   "id": "8c6bfee8-425b-4ec9-b47f-08168d735ebd",
   "metadata": {},
   "outputs": [],
   "source": [
    "# bank of of potential personal information asked on applications\n",
    "\n",
    "personal_info_keywords = [ 'First Name', 'Last Name', 'Middle Name', 'Title', 'SSN', 'Personal Cellphone', 'Work Phone', 'Home Phone', 'Adress', 'City',\n",
    "                 'State', 'Zip', 'Drivers License ID', 'Drivers License Type', 'Height', 'Weight', 'Gender', 'Sex', 'Eye Color', 'Date of Birth',\n",
    "                 'Race', 'Ethnicity', 'Legal Status', 'Visa Number', 'Passport Number', 'Veteran Status', 'Emergency Person First Name',\n",
    "                 'Emergency Person Last Name', 'Emergency Person Phone', 'Personal Email', 'Highest Education Level', 'College', 'Graduation date', \n",
    "                 'Major', 'Minor', 'GPA', 'Age', 'Sexual Orientation']"
   ]
  },
  {
   "cell_type": "code",
   "execution_count": 21,
   "id": "c7750fdf-3632-4b1f-86b7-b5ad07c48843",
   "metadata": {},
   "outputs": [
    {
     "data": {
      "text/plain": [
       "38"
      ]
     },
     "execution_count": 21,
     "metadata": {},
     "output_type": "execute_result"
    }
   ],
   "source": [
    "len(personal_info_keywords)"
   ]
  },
  {
   "cell_type": "code",
   "execution_count": 22,
   "id": "603a0311-0a5c-4c30-b37e-2798761d2d67",
   "metadata": {},
   "outputs": [],
   "source": [
    "personal_data_bank = {}\n",
    "communal_data_bank = {}\n",
    "\n",
    "#creates a personal database inside of a communal database \n",
    "def personal_database_creator(unique_username):\n",
    "    \n",
    "    for i in personal_info_keywords:\n",
    "        data = input('Enter your: {}'.format(i))\n",
    "        personal_data_bank[i] = data\n",
    "        \n",
    "    communal_data_bank[str(unique_username)] = personal_data_bank\n",
    "    "
   ]
  },
  {
   "cell_type": "code",
   "execution_count": 23,
   "id": "6c8e3127-4b70-44b8-ab8a-5a960751e033",
   "metadata": {},
   "outputs": [],
   "source": [
    "#ensures that the selected username does not overlap with existing usernames in the communal database\n",
    "def username_uniqeness_check(username):\n",
    "    for key in communal_data_bank:\n",
    "        if key == str(username):\n",
    "            print('Username taken.')\n",
    "            return False\n",
    "    print('Username accepted.')\n",
    "    return True"
   ]
  },
  {
   "cell_type": "code",
   "execution_count": 24,
   "id": "9711daf3-2e57-4b1c-8a5c-5b20dd4303ff",
   "metadata": {},
   "outputs": [],
   "source": [
    "import Levenshtein #to compare similar words (personal info keywords to field names)\n",
    "import selenium #to initialize the browser and read the online application form"
   ]
  },
  {
   "cell_type": "code",
   "execution_count": 25,
   "id": "5426ea2b-de34-42c0-b864-dd9848d86b72",
   "metadata": {},
   "outputs": [],
   "source": [
    "#scans the online application and puts the field names into a list\n",
    "def field_names_gatherer(application_link):\n",
    "\n",
    "    # Initialize the WebDriver (e.g., Chrome)\n",
    "    driver = webdriver.Chrome()\n",
    "    \n",
    "    # Navigate to the web page with the form\n",
    "    driver.get(str(application_link))\n",
    "    \n",
    "    # Find all input elements within the form\n",
    "    input_elements = driver.find_elements_by_css_selector(\"form input\")\n",
    "    \n",
    "    # Collect the names (or other attributes) into a list\n",
    "    global field_names\n",
    "    field_names = [element.get_attribute(\"name\") for element in input_elements]\n",
    "    \n",
    "    # Print the collected field names\n",
    "    print(\"Form Field Names:\", field_names)\n",
    "    \n",
    "    # Close the browser when done\n",
    "    driver.quit()\n",
    "    return field_names\n"
   ]
  },
  {
   "cell_type": "code",
   "execution_count": 26,
   "id": "de2a0188-29b4-4c2c-b630-9a4ad714e45c",
   "metadata": {},
   "outputs": [],
   "source": [
    "#create a dictionary that matches the personal info keywords with field names of the online application\n",
    "def matchings():\n",
    "    assert len(field_names)==len(personal_info_keywords), 'the list of personal info keywords must have the same length as the list of field names (1-1 correspondence is required)'\n",
    "    \n",
    "    fields = field_names\n",
    "    global field_mapping\n",
    "    field_mapping = {}\n",
    "    for keyword in personal_info_keywords:\n",
    "        dist = 1000\n",
    "        closest_field = None\n",
    "        for field in fields:\n",
    "            distance = Levenshtein.distance(keyword.lower(), field.lower())\n",
    "            if distance < dist:\n",
    "                dist = distance\n",
    "                closest_field = field\n",
    "                \n",
    "        field_mapping[keyword] = closest_field\n",
    "        fields.remove(closest_field)\n",
    "\n",
    "    print(field_mapping)\n",
    "    return field_mapping\n",
    "    "
   ]
  },
  {
   "cell_type": "code",
   "execution_count": 27,
   "id": "ba31d117-adf4-4c28-8959-6d0b6e7eb75b",
   "metadata": {},
   "outputs": [],
   "source": [
    "#can also create the personal info keyword list based on the field names of the online application\n",
    "#first, scan the field names of the online application\n",
    "#second, create a dictionary with the fields as keys and the users personal info as values\n",
    "#third, input the values (personal info) into the corresponding fields in the online application\n",
    "\n",
    "#useful in the scenario when one has to fill out multiple online applications that ask the same things (overlapping fields)\n",
    "#avoids repetitive typing, saves time\n",
    "\n",
    "application_based_user_info = {}\n",
    "\n",
    "def fields_based_info(application_link):\n",
    "\n",
    "    fields = field_names_gatherer(str(application_link))\n",
    "    for field in fields:\n",
    "        entry = input(f'Enter your: {field}.')\n",
    "        application_based_user_info[field] = entry\n",
    "\n",
    "    return application_based_user_info\n",
    "\n",
    "\n",
    "\n",
    "def autofill(application_link):\n",
    "\n",
    "    driver = webdriver.Chrome()\n",
    "\n",
    "    driver.get(str(application_link))\n",
    "\n",
    "    for name in field_names_gatherer(str(application_link)):\n",
    "        input_field = driver.find_element_by_name(name)\n",
    "        input_field.send_keys(application_based_user_info[name])\n",
    "    \n",
    "\n",
    "\n",
    "    form = driver.find_element_by_id('application-form')\n",
    "    form.submit()\n",
    "\n",
    "    driver.quit()\n"
   ]
  },
  {
   "cell_type": "code",
   "execution_count": null,
   "id": "4bc8bb58-52a2-40ce-b71c-4db93374291b",
   "metadata": {},
   "outputs": [],
   "source": []
  }
 ],
 "metadata": {
  "kernelspec": {
   "display_name": "Python 3 (ipykernel)",
   "language": "python",
   "name": "python3"
  },
  "language_info": {
   "codemirror_mode": {
    "name": "ipython",
    "version": 3
   },
   "file_extension": ".py",
   "mimetype": "text/x-python",
   "name": "python",
   "nbconvert_exporter": "python",
   "pygments_lexer": "ipython3",
   "version": "3.11.4"
  }
 },
 "nbformat": 4,
 "nbformat_minor": 5
}
